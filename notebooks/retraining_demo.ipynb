{
  "cells": [
    {
      "cell_type": "code",
      "execution_count": null,
      "metadata": {},
      "outputs": [],
      "source": [
        "# Retraining Demo\n",
        "\n",
        "This notebook demonstrates loading sample data, running the Prefect retraining flow, and calling the model for predictions.\n"
      ]
    },
    {
      "cell_type": "code",
      "execution_count": null,
      "metadata": {},
      "outputs": [],
      "source": [
        "import os\n",
        "os.environ['MODEL_DIR'] = './models'\n",
        "os.environ['DATA_DIR'] = './data'\n",
        "\n",
        "from src.workflows.retrain_flow import retrain_flow\n",
        "model_path = retrain_flow()\n",
        "model_path\n"
      ]
    },
    {
      "cell_type": "code",
      "execution_count": null,
      "metadata": {},
      "outputs": [],
      "source": [
        "from src.modeling.model import ModelService\n",
        "svc = ModelService()\n",
        "svc.load_or_initialize()\n",
        "pred = svc.predict([1.0, 2.0, 3.0])\n",
        "pred\n"
      ]
    }
  ],
  "metadata": {
    "language_info": {
      "name": "python"
    }
  },
  "nbformat": 4,
  "nbformat_minor": 2
}
